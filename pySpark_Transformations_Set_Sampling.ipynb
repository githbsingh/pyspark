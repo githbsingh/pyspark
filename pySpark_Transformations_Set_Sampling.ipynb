{
  "cells": [
    {
      "cell_type": "markdown",
      "metadata": {
        "id": "view-in-github",
        "colab_type": "text"
      },
      "source": [
        "<a href=\"https://colab.research.google.com/github/githbsingh/pyspark/blob/main/pySpark_Transformations_Set_Sampling.ipynb\" target=\"_parent\"><img src=\"https://colab.research.google.com/assets/colab-badge.svg\" alt=\"Open In Colab\"/></a>"
      ]
    },
    {
      "cell_type": "code",
      "execution_count": null,
      "metadata": {
        "application/vnd.databricks.v1+cell": {
          "cellMetadata": {
            "byteLimit": 2048000,
            "rowLimit": 10000
          },
          "inputWidgets": {},
          "nuid": "b00f8d53-4b39-4007-b0da-a620967a7bbe",
          "showTitle": false,
          "tableResultSettingsMap": {},
          "title": ""
        },
        "id": "mvbgSy2unwje",
        "outputId": "aaa28607-a79d-49ff-bdb0-f2ddaa281543"
      },
      "outputs": [
        {
          "output_type": "stream",
          "name": "stdout",
          "text": [
            "Out[3]: Row(_c0='1', _c1='2013-07-25 00:00:00.0', _c2='11599', _c3='CLOSED')"
          ]
        }
      ],
      "source": [
        "# File location and type\n",
        "file_location = \"/FileStore/tables/part_00000.csv\"\n",
        "file_type = \"csv\"\n",
        "\n",
        "# CSV options\n",
        "infer_schema = \"false\"\n",
        "first_row_is_header = \"false\"\n",
        "delimiter = \",\"\n",
        "\n",
        "# The applied options are for CSV files. For other file types, these will be ignored.\n",
        "df = spark.read.format(file_type) \\\n",
        "  .option(\"inferSchema\", infer_schema) \\\n",
        "  .option(\"header\", first_row_is_header) \\\n",
        "  .option(\"sep\", delimiter) \\\n",
        "  .load(file_location)\n",
        "df.head()"
      ]
    },
    {
      "cell_type": "code",
      "execution_count": null,
      "metadata": {
        "application/vnd.databricks.v1+cell": {
          "cellMetadata": {
            "byteLimit": 2048000,
            "rowLimit": 10000
          },
          "inputWidgets": {},
          "nuid": "5d7bcfc1-139c-42ec-8886-1d2983265b44",
          "showTitle": false,
          "tableResultSettingsMap": {},
          "title": ""
        },
        "id": "M0vk-rYBnwjh",
        "outputId": "04c3e74c-bf44-41be-ac13-6ab0f1a313f9"
      },
      "outputs": [
        {
          "output_type": "stream",
          "name": "stdout",
          "text": [
            "<class 'pyspark.sql.dataframe.DataFrame'>\n<class 'pyspark.rdd.PipelinedRDD'>\n1,2013-07-25 00:00:00.0,11599,CLOSED\n2,2013-07-25 00:00:00.0,256,PENDING_PAYMENT\n3,2013-07-25 00:00:00.0,12111,COMPLETE\n4,2013-07-25 00:00:00.0,8827,CLOSED\n5,2013-07-25 00:00:00.0,11318,COMPLETE\n"
          ]
        }
      ],
      "source": [
        "print(type(df))\n",
        "order = df.rdd.map(lambda row : \",\".join(str(x) for x in row))\n",
        "print(type(order))\n",
        "for i in order.take(5) : print(i)"
      ]
    },
    {
      "cell_type": "markdown",
      "metadata": {
        "application/vnd.databricks.v1+cell": {
          "cellMetadata": {},
          "inputWidgets": {},
          "nuid": "1a05fccf-2cda-435c-8ac2-6035593da47d",
          "showTitle": false,
          "tableResultSettingsMap": {},
          "title": ""
        },
        "id": "8Q8t-SZ-nwjh"
      },
      "source": [
        "#### Get the number of customers ordered in the month of Jul and Aug"
      ]
    },
    {
      "cell_type": "code",
      "execution_count": null,
      "metadata": {
        "application/vnd.databricks.v1+cell": {
          "cellMetadata": {
            "byteLimit": 2048000,
            "rowLimit": 10000
          },
          "inputWidgets": {},
          "nuid": "bf9b7570-1812-45c3-8e5a-70e619ec89a9",
          "showTitle": false,
          "tableResultSettingsMap": {},
          "title": ""
        },
        "id": "CfrOhdRPnwji",
        "outputId": "13012391-38ba-49f3-e878-a50a73f1f756"
      },
      "outputs": [
        {
          "output_type": "stream",
          "name": "stdout",
          "text": [
            "11599\n256\n12111\n8827\n11318\n7130\n4530\n"
          ]
        }
      ],
      "source": [
        "julOrd = order.filter(lambda x: (x.split(',')[1].split('-')[1])=='07').map(lambda x: x.split(',')[2])\n",
        "for i in julOrd.take(7) : print(i)"
      ]
    },
    {
      "cell_type": "code",
      "execution_count": null,
      "metadata": {
        "application/vnd.databricks.v1+cell": {
          "cellMetadata": {
            "byteLimit": 2048000,
            "rowLimit": 10000
          },
          "inputWidgets": {},
          "nuid": "d66327fb-2b0c-4abd-9c6b-22dc376cb7d6",
          "showTitle": false,
          "tableResultSettingsMap": {},
          "title": ""
        },
        "id": "w45_pC1Fnwjj",
        "outputId": "ddde4e6a-4830-4b65-8505-329f087c033e"
      },
      "outputs": [
        {
          "output_type": "stream",
          "name": "stdout",
          "text": [
            "Out[17]: 6001"
          ]
        }
      ],
      "source": [
        "julOrd.count()"
      ]
    },
    {
      "cell_type": "code",
      "execution_count": null,
      "metadata": {
        "application/vnd.databricks.v1+cell": {
          "cellMetadata": {
            "byteLimit": 2048000,
            "rowLimit": 10000
          },
          "inputWidgets": {},
          "nuid": "28071beb-3417-42cd-b462-079402906c68",
          "showTitle": false,
          "tableResultSettingsMap": {},
          "title": ""
        },
        "id": "yZAcbBJUnwjj",
        "outputId": "f89d9975-de13-42d9-a801-56cf8a762030"
      },
      "outputs": [
        {
          "output_type": "stream",
          "name": "stdout",
          "text": [
            "11607\n5105\n7802\n553\n1604\n1695\n7018\n"
          ]
        }
      ],
      "source": [
        "augOrd = order.filter(lambda x: (x.split(',')[1].split('-')[1])=='08').map(lambda x: x.split(',')[2])\n",
        "for i in augOrd.take(7) : print(i)"
      ]
    },
    {
      "cell_type": "code",
      "execution_count": null,
      "metadata": {
        "application/vnd.databricks.v1+cell": {
          "cellMetadata": {
            "byteLimit": 2048000,
            "rowLimit": 10000
          },
          "inputWidgets": {},
          "nuid": "46bbb285-43fd-4070-b3a9-e61d165c1147",
          "showTitle": false,
          "tableResultSettingsMap": {},
          "title": ""
        },
        "id": "TA9Ta2ONnwjk",
        "outputId": "111c8757-ab54-4fd9-9b37-ba1cab788c2f"
      },
      "outputs": [
        {
          "output_type": "stream",
          "name": "stdout",
          "text": [
            "Out[18]: 5680"
          ]
        }
      ],
      "source": [
        "augOrd.count()"
      ]
    },
    {
      "cell_type": "code",
      "execution_count": null,
      "metadata": {
        "application/vnd.databricks.v1+cell": {
          "cellMetadata": {
            "byteLimit": 2048000,
            "rowLimit": 10000
          },
          "inputWidgets": {},
          "nuid": "49f16c5c-c429-4644-b889-af69f1bea8f5",
          "showTitle": false,
          "tableResultSettingsMap": {},
          "title": ""
        },
        "id": "fkDINPQrnwjk",
        "outputId": "9bf8ffb8-0441-4a1d-d072-a60d310668ef"
      },
      "outputs": [
        {
          "output_type": "stream",
          "name": "stdout",
          "text": [
            "Out[19]: 11681"
          ]
        }
      ],
      "source": [
        "julAugOrd = julOrd.union(augOrd)\n",
        "julAugOrd.count()"
      ]
    },
    {
      "cell_type": "code",
      "execution_count": null,
      "metadata": {
        "application/vnd.databricks.v1+cell": {
          "cellMetadata": {
            "byteLimit": 2048000,
            "rowLimit": 10000
          },
          "inputWidgets": {},
          "nuid": "676c9c8d-1311-46ed-bac8-5a88ce689a0a",
          "showTitle": false,
          "tableResultSettingsMap": {},
          "title": ""
        },
        "id": "LGxWZ61unwjk",
        "outputId": "6bf7306b-910c-4ab7-8891-6d9e11b9dbac"
      },
      "outputs": [
        {
          "output_type": "stream",
          "name": "stdout",
          "text": [
            "Out[20]: 7633"
          ]
        }
      ],
      "source": [
        "julAugOrd.distinct().count()"
      ]
    },
    {
      "cell_type": "markdown",
      "metadata": {
        "application/vnd.databricks.v1+cell": {
          "cellMetadata": {},
          "inputWidgets": {},
          "nuid": "f72611c8-5ad3-4639-9e84-47845aa92e10",
          "showTitle": false,
          "tableResultSettingsMap": {},
          "title": ""
        },
        "id": "hWSEVkHnnwjl"
      },
      "source": [
        "#### Orders Applied in the month of July and Aug both"
      ]
    },
    {
      "cell_type": "code",
      "execution_count": null,
      "metadata": {
        "application/vnd.databricks.v1+cell": {
          "cellMetadata": {
            "byteLimit": 2048000,
            "rowLimit": 10000
          },
          "inputWidgets": {},
          "nuid": "7f333e61-b5aa-4e8e-9b2f-2ffaf17999cc",
          "showTitle": false,
          "tableResultSettingsMap": {},
          "title": ""
        },
        "id": "kcNbVg2Tnwjl",
        "outputId": "a3a4bc41-ea8f-4b86-ad36-f3412011ad92"
      },
      "outputs": [
        {
          "output_type": "stream",
          "name": "stdout",
          "text": [
            "Out[22]: 1759"
          ]
        }
      ],
      "source": [
        "julOrd.intersection(augOrd).count()\n"
      ]
    },
    {
      "cell_type": "code",
      "execution_count": null,
      "metadata": {
        "application/vnd.databricks.v1+cell": {
          "cellMetadata": {
            "byteLimit": 2048000,
            "rowLimit": 10000
          },
          "inputWidgets": {},
          "nuid": "b3e05151-05aa-4e48-884a-4ae3e2bd56a2",
          "showTitle": false,
          "tableResultSettingsMap": {},
          "title": ""
        },
        "id": "S2XzsZiznwjl",
        "outputId": "994bfd3e-a96f-49b8-e8c7-e55c66d12fd3"
      },
      "outputs": [
        {
          "output_type": "stream",
          "name": "stdout",
          "text": [
            "Out[23]: [1, 3]"
          ]
        }
      ],
      "source": [
        "rdd1 = sc.parallelize([1,2,3,3,3,3])\n",
        "rdd2 = sc.parallelize([1,3,5])\n",
        "rdd1.intersection(rdd2).collect()"
      ]
    },
    {
      "cell_type": "markdown",
      "metadata": {
        "application/vnd.databricks.v1+cell": {
          "cellMetadata": {},
          "inputWidgets": {},
          "nuid": "786a669f-2d12-434e-8d4a-e34fa54c85ce",
          "showTitle": false,
          "tableResultSettingsMap": {},
          "title": ""
        },
        "id": "9cv0jYHGnwjl"
      },
      "source": [
        "#### Subtract"
      ]
    },
    {
      "cell_type": "code",
      "execution_count": null,
      "metadata": {
        "application/vnd.databricks.v1+cell": {
          "cellMetadata": {
            "byteLimit": 2048000,
            "rowLimit": 10000
          },
          "inputWidgets": {},
          "nuid": "1b994e69-c474-47b4-8bb8-6bfdee7d5d63",
          "showTitle": false,
          "tableResultSettingsMap": {},
          "title": ""
        },
        "id": "DiAdMF72nwjl",
        "outputId": "8c6a0de7-8a14-4a2f-9a31-2eb6f3613748"
      },
      "outputs": [
        {
          "output_type": "stream",
          "name": "stdout",
          "text": [
            "Out[24]: [2]"
          ]
        }
      ],
      "source": [
        "rdd1 = sc.parallelize([1,2,3,3,3,3])\n",
        "rdd2 = sc.parallelize([1,3,5])\n",
        "rdd1.subtract(rdd2).collect()"
      ]
    },
    {
      "cell_type": "code",
      "execution_count": null,
      "metadata": {
        "application/vnd.databricks.v1+cell": {
          "cellMetadata": {
            "byteLimit": 2048000,
            "rowLimit": 10000
          },
          "inputWidgets": {},
          "nuid": "ea1574c3-88de-4c1c-ae1b-9b4af0c5dd39",
          "showTitle": false,
          "tableResultSettingsMap": {},
          "title": ""
        },
        "id": "26W1dJH2nwjm",
        "outputId": "a0a9a903-c442-4dad-ac2e-fdd8bd24c395"
      },
      "outputs": [
        {
          "output_type": "stream",
          "name": "stdout",
          "text": [
            "Out[26]: [5]"
          ]
        }
      ],
      "source": [
        "rdd2.subtract(rdd1).collect()"
      ]
    },
    {
      "cell_type": "code",
      "execution_count": null,
      "metadata": {
        "application/vnd.databricks.v1+cell": {
          "cellMetadata": {
            "byteLimit": 2048000,
            "rowLimit": 10000
          },
          "inputWidgets": {},
          "nuid": "193892fa-b825-4c7c-9043-a6f884c06587",
          "showTitle": false,
          "tableResultSettingsMap": {},
          "title": ""
        },
        "id": "uVxREUJbnwjm"
      },
      "outputs": [],
      "source": [
        "rdd = sc.parallelize(range(100), 4)"
      ]
    },
    {
      "cell_type": "code",
      "execution_count": null,
      "metadata": {
        "application/vnd.databricks.v1+cell": {
          "cellMetadata": {
            "byteLimit": 2048000,
            "rowLimit": 10000
          },
          "inputWidgets": {},
          "nuid": "a55f0307-e044-46dc-864b-48066e55eae8",
          "showTitle": false,
          "tableResultSettingsMap": {},
          "title": ""
        },
        "id": "Z_t3RZzvnwjm",
        "outputId": "6dbfc775-69a2-498b-f93f-2f1bf021c065"
      },
      "outputs": [
        {
          "output_type": "stream",
          "name": "stdout",
          "text": [
            "0\n1\n2\n3\n4\n"
          ]
        }
      ],
      "source": [
        "for i in rdd.take(5) : print(i)"
      ]
    },
    {
      "cell_type": "markdown",
      "metadata": {
        "application/vnd.databricks.v1+cell": {
          "cellMetadata": {},
          "inputWidgets": {},
          "nuid": "25ff5b3f-ab07-4b5f-aef2-2033971ccc0a",
          "showTitle": false,
          "tableResultSettingsMap": {},
          "title": ""
        },
        "id": "oRa6PT0knwjm"
      },
      "source": [
        "### Sample (Transformations operation)"
      ]
    },
    {
      "cell_type": "code",
      "execution_count": null,
      "metadata": {
        "application/vnd.databricks.v1+cell": {
          "cellMetadata": {
            "byteLimit": 2048000,
            "rowLimit": 10000
          },
          "inputWidgets": {},
          "nuid": "9cbf92c9-2cb7-414d-b951-2a7ce18fc5e2",
          "showTitle": false,
          "tableResultSettingsMap": {},
          "title": ""
        },
        "id": "FrYv6j7bnwjm",
        "outputId": "1eefaea5-aac5-48a3-d27d-4994942f13b8"
      },
      "outputs": [
        {
          "output_type": "stream",
          "name": "stdout",
          "text": [
            "Out[34]: [5, 19, 20, 36, 37, 46, 47, 51, 65, 70, 72, 77, 96]"
          ]
        }
      ],
      "source": [
        "rdd.sample(withReplacement=False, fraction=0.1, seed=10).collect()"
      ]
    },
    {
      "cell_type": "code",
      "execution_count": null,
      "metadata": {
        "application/vnd.databricks.v1+cell": {
          "cellMetadata": {
            "byteLimit": 2048000,
            "rowLimit": 10000
          },
          "inputWidgets": {},
          "nuid": "2a1c03da-cbb9-4ed4-98d7-916d6d1f7f06",
          "showTitle": false,
          "tableResultSettingsMap": {},
          "title": ""
        },
        "id": "QRdICgmLnwjm",
        "outputId": "1703be3c-d9e8-4dc1-e4cc-338b5f1ca252"
      },
      "outputs": [
        {
          "output_type": "stream",
          "name": "stdout",
          "text": [
            "Out[33]: [2, 21, 26, 40, 45, 47, 61, 62, 71, 72, 80, 94, 95]"
          ]
        }
      ],
      "source": [
        "rdd.sample(withReplacement=False, fraction=0.1, seed=9).collect()"
      ]
    },
    {
      "cell_type": "markdown",
      "metadata": {
        "application/vnd.databricks.v1+cell": {
          "cellMetadata": {},
          "inputWidgets": {},
          "nuid": "3dc463b6-bf3f-461f-9701-02f8e7100575",
          "showTitle": false,
          "tableResultSettingsMap": {},
          "title": ""
        },
        "id": "gyDDI3zjnwjn"
      },
      "source": [
        "#### takeSample (Actions operation)"
      ]
    },
    {
      "cell_type": "code",
      "execution_count": null,
      "metadata": {
        "application/vnd.databricks.v1+cell": {
          "cellMetadata": {
            "byteLimit": 2048000,
            "rowLimit": 10000
          },
          "inputWidgets": {},
          "nuid": "d5004ed5-b6fa-4e85-bc5c-bef37ed396de",
          "showTitle": false,
          "tableResultSettingsMap": {},
          "title": ""
        },
        "id": "RtvjbbQdnwjn",
        "outputId": "3eaa8fe6-6b56-4513-a8e6-2f3d110c831d"
      },
      "outputs": [
        {
          "output_type": "stream",
          "name": "stdout",
          "text": [
            "Out[70]: [72, 98, 97, 10, 44, 76, 18, 44, 21, 95]"
          ]
        }
      ],
      "source": [
        "rdd.takeSample(withReplacement=True, num=10, seed=5)"
      ]
    },
    {
      "cell_type": "markdown",
      "metadata": {
        "application/vnd.databricks.v1+cell": {
          "cellMetadata": {},
          "inputWidgets": {},
          "nuid": "15751de7-6c25-469b-81ea-b43e5cbec6c9",
          "showTitle": false,
          "tableResultSettingsMap": {},
          "title": ""
        },
        "id": "8HQQRq2Wnwjn"
      },
      "source": []
    },
    {
      "cell_type": "markdown",
      "metadata": {
        "application/vnd.databricks.v1+cell": {
          "cellMetadata": {},
          "inputWidgets": {},
          "nuid": "a513d29c-17a7-4f3a-8dd0-c61a91fc8d35",
          "showTitle": false,
          "tableResultSettingsMap": {},
          "title": ""
        },
        "id": "qNoDI-udnwjn"
      },
      "source": [
        "#### Repartitioning and coalasce"
      ]
    },
    {
      "cell_type": "code",
      "execution_count": null,
      "metadata": {
        "application/vnd.databricks.v1+cell": {
          "cellMetadata": {
            "byteLimit": 2048000,
            "rowLimit": 10000
          },
          "inputWidgets": {},
          "nuid": "ace5668f-4d49-4bec-8578-6a2305089641",
          "showTitle": false,
          "tableResultSettingsMap": {},
          "title": ""
        },
        "id": "VQewU-rbnwjn",
        "outputId": "28dbe1ad-6ecb-471d-a7e2-fba1d3a98d47"
      },
      "outputs": [
        {
          "output_type": "stream",
          "name": "stdout",
          "text": [
            "Row(id=0)\n"
          ]
        }
      ],
      "source": [
        "# Dump data for testign.\n",
        "df = spark.range(1000000)\n",
        "print(df.head())\n",
        "df = df.select(df.id, df.id*2, df.id*3)\n",
        "df = df.union(df)\n",
        "df = df.union(df)\n",
        "df = df.union(df)\n",
        "df = df.union(df)\n",
        "df = df.union(df)\n",
        "RDD = df.rdd.map(lambda x: str(x[0]) + ',' + str(x[1]) + ',' + str(x[2]))\n"
      ]
    },
    {
      "cell_type": "code",
      "execution_count": null,
      "metadata": {
        "application/vnd.databricks.v1+cell": {
          "cellMetadata": {
            "byteLimit": 2048000,
            "rowLimit": 10000
          },
          "inputWidgets": {},
          "nuid": "e55cc6ee-f85b-403f-b77e-2b9562b9ca6e",
          "showTitle": false,
          "tableResultSettingsMap": {},
          "title": ""
        },
        "id": "zY67vrJUnwjn"
      },
      "outputs": [],
      "source": [
        "RDD.coalesce(1).saveAsTextFile('/Users/manoharkumar_singh@yahoo.com/test_data')"
      ]
    },
    {
      "cell_type": "code",
      "execution_count": null,
      "metadata": {
        "application/vnd.databricks.v1+cell": {
          "cellMetadata": {},
          "inputWidgets": {},
          "nuid": "0167ab6d-6860-4f93-9a5f-92edc9365339",
          "showTitle": false,
          "tableResultSettingsMap": {},
          "title": ""
        },
        "id": "2rgzDNJ6nwjn"
      },
      "outputs": [],
      "source": [
        ""
      ]
    }
  ],
  "metadata": {
    "application/vnd.databricks.v1+notebook": {
      "computePreferences": null,
      "dashboards": [],
      "environmentMetadata": {
        "base_environment": "",
        "client": "1"
      },
      "language": "python",
      "notebookMetadata": {
        "pythonIndentUnit": 4
      },
      "notebookName": "pySpark_Transformations_Set_Sampling",
      "widgets": {}
    },
    "colab": {
      "provenance": [],
      "include_colab_link": true
    }
  },
  "nbformat": 4,
  "nbformat_minor": 0
}